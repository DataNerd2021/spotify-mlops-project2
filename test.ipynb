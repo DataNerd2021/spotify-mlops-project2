{
 "cells": [
  {
   "cell_type": "code",
   "execution_count": 128,
   "metadata": {},
   "outputs": [],
   "source": [
    "import spotipy\n",
    "from spotipy.oauth2 import SpotifyClientCredentials\n",
    "import polars as pl\n",
    "import pandas as pd\n",
    "\n",
    "birdy_uri = 'spotify:artist:1l2ekx5skC4gJH8djERwh1'\n",
    "credentials = SpotifyClientCredentials(client_id=\"e12321d0c25843b78c739eb124ac8d2e\", client_secret=\"6c1e01f319f84545afaeacb6ef7452fd\")\n",
    "spotify = spotipy.Spotify(client_credentials_manager=credentials, auth=credentials.get_access_token(as_dict=False))\n"
   ]
  },
  {
   "cell_type": "code",
   "execution_count": 131,
   "metadata": {},
   "outputs": [
    {
     "data": {
      "text/html": [
       "<div><style>\n",
       ".dataframe > thead > tr > th,\n",
       ".dataframe > tbody > tr > td {\n",
       "  text-align: right;\n",
       "}\n",
       "</style>\n",
       "<small>shape: (5, 6)</small><table border=\"1\" class=\"dataframe\"><thead><tr><th>added_at</th><th>track_uri</th><th>track_name</th><th>album_type</th><th>is_explicit</th><th>artists</th></tr><tr><td>datetime[μs, UTC]</td><td>str</td><td>str</td><td>str</td><td>bool</td><td>struct[4]</td></tr></thead><tbody><tr><td>2023-11-03 04:00:00 UTC</td><td>&quot;spotify:track:6Db59Evpnl2VNJNgzVI3c3&quot;</td><td>&quot;The 312&quot;</td><td>&quot;single&quot;</td><td>false</td><td>{&quot;Landis&quot;,null,null,null}</td></tr><tr><td>2023-11-03 04:00:00 UTC</td><td>&quot;spotify:track:6xKlgscNiEVJkDGd572KrI&quot;</td><td>&quot;Pump It Up (Mamacita)&quot;</td><td>&quot;album&quot;</td><td>false</td><td>{&quot;BODYWORX&quot;,&quot;MOTi&quot;,null,null}</td></tr><tr><td>2023-11-03 04:00:00 UTC</td><td>&quot;spotify:track:14dRCRAvltxiNL7Mx0BDx8&quot;</td><td>&quot;Born Yesterday (Tritonia 452) [Tritonal Throwback]&quot;</td><td>&quot;album&quot;</td><td>false</td><td>{&quot;Tritonal Tritonia Radio&quot;,null,null,null}</td></tr><tr><td>2023-11-03 04:00:00 UTC</td><td>&quot;spotify:track:7LUi7VNFBQpsJBfNY6iQ52&quot;</td><td>&quot;Past Life - Clean Bandit Remix&quot;</td><td>&quot;single&quot;</td><td>false</td><td>{&quot;Felix Jaehn&quot;,&quot;Jonas Blue&quot;,&quot;Clean Bandit&quot;,null}</td></tr><tr><td>2023-11-03 04:00:00 UTC</td><td>&quot;spotify:track:02YBdthu3iJVFRBaXVxFO4&quot;</td><td>&quot;Lifetime&quot;</td><td>&quot;single&quot;</td><td>false</td><td>{&quot;Marc Benjamin&quot;,&quot;David Allen&quot;,null,null}</td></tr></tbody></table></div>"
      ],
      "text/plain": [
       "shape: (5, 6)\n",
       "┌──────────────┬──────────────────┬──────────────────┬────────────┬─────────────┬──────────────────┐\n",
       "│ added_at     ┆ track_uri        ┆ track_name       ┆ album_type ┆ is_explicit ┆ artists          │\n",
       "│ ---          ┆ ---              ┆ ---              ┆ ---        ┆ ---         ┆ ---              │\n",
       "│ datetime[μs, ┆ str              ┆ str              ┆ str        ┆ bool        ┆ struct[4]        │\n",
       "│ UTC]         ┆                  ┆                  ┆            ┆             ┆                  │\n",
       "╞══════════════╪══════════════════╪══════════════════╪════════════╪═════════════╪══════════════════╡\n",
       "│ 2023-11-03   ┆ spotify:track:6D ┆ The 312          ┆ single     ┆ false       ┆ {\"Landis\",null,n │\n",
       "│ 04:00:00 UTC ┆ b59Evpnl2VNJNgzV ┆                  ┆            ┆             ┆ ull,null}        │\n",
       "│              ┆ I3c3             ┆                  ┆            ┆             ┆                  │\n",
       "│ 2023-11-03   ┆ spotify:track:6x ┆ Pump It Up       ┆ album      ┆ false       ┆ {\"BODYWORX\",\"MOT │\n",
       "│ 04:00:00 UTC ┆ KlgscNiEVJkDGd57 ┆ (Mamacita)       ┆            ┆             ┆ i\",null,null}    │\n",
       "│              ┆ 2KrI             ┆                  ┆            ┆             ┆                  │\n",
       "│ 2023-11-03   ┆ spotify:track:14 ┆ Born Yesterday   ┆ album      ┆ false       ┆ {\"Tritonal       │\n",
       "│ 04:00:00 UTC ┆ dRCRAvltxiNL7Mx0 ┆ (Tritonia 452)   ┆            ┆             ┆ Tritonia Radio\", │\n",
       "│              ┆ BDx8             ┆ [Tritonal        ┆            ┆             ┆ null,null,null}  │\n",
       "│              ┆                  ┆ Throwback]       ┆            ┆             ┆                  │\n",
       "│ 2023-11-03   ┆ spotify:track:7L ┆ Past Life -      ┆ single     ┆ false       ┆ {\"Felix          │\n",
       "│ 04:00:00 UTC ┆ Ui7VNFBQpsJBfNY6 ┆ Clean Bandit     ┆            ┆             ┆ Jaehn\",\"Jonas    │\n",
       "│              ┆ iQ52             ┆ Remix            ┆            ┆             ┆ Blue\",\"Clean     │\n",
       "│              ┆                  ┆                  ┆            ┆             ┆ Bandit\",null}    │\n",
       "│ 2023-11-03   ┆ spotify:track:02 ┆ Lifetime         ┆ single     ┆ false       ┆ {\"Marc           │\n",
       "│ 04:00:00 UTC ┆ YBdthu3iJVFRBaXV ┆                  ┆            ┆             ┆ Benjamin\",\"David │\n",
       "│              ┆ xFO4             ┆                  ┆            ┆             ┆ Allen\",null,null │\n",
       "│              ┆                  ┆                  ┆            ┆             ┆ }                │\n",
       "└──────────────┴──────────────────┴──────────────────┴────────────┴─────────────┴──────────────────┘"
      ]
     },
     "execution_count": 131,
     "metadata": {},
     "output_type": "execute_result"
    }
   ],
   "source": [
    "playlist_tracks = spotify.playlist_tracks(\"spotify:playlist:37i9dQZEVXbdCnni12q6yv\")\n",
    "\n",
    "# configure DataFrame full width\n",
    "pl.Config.set_fmt_str_lengths(100)\n",
    "\n",
    "# create DataFrame based on JSON Schema\n",
    "results = pl.DataFrame(playlist_tracks['items'])\n",
    "\n",
    "# extract relevant fields from nested JSON Schema\n",
    "results = results.with_columns(pl.col('track').struct.field('uri').alias('track_uri')).with_columns(pl.col('track').struct.field('name').alias('track_name')).with_columns(pl.col('track').struct.field('album').alias('album')).with_columns(pl.col('album').struct.field('album_type').alias('album_type')).with_columns(pl.col('album').struct.field('artists').alias('artists')).with_columns(pl.col('artists').list.get(0).alias('first_artist_struct')).with_columns(pl.col('first_artist_struct').struct.field('name').alias('first_artist_name')).with_columns(pl.col('artists').list.get(1).alias('second_artist_struct')).with_columns(pl.col('second_artist_struct').struct.field('name').alias('second_artist_name')).with_columns(pl.col('artists').list.get(2).alias('third_artist_struct')).with_columns(pl.col('third_artist_struct').struct.field('name').alias('third_artist_name')).with_columns(pl.col('artists').list.get(3).alias('fourth_artist_struct')).with_columns(pl.col('fourth_artist_struct').struct.field('name').alias('fourth_artist_name')).with_columns(pl.col('track').struct.field('explicit').alias('is_explicit'))\n",
    "\n",
    "# drop unnecessary columns\n",
    "results = results.drop(columns=['is_local', 'primary_color', 'video_thumbnail', 'added_by', 'first_artist_struct', 'second_artist_struct', 'third_artist_struct', 'fourth_artist_struct', 'album', 'artists', 'track'])\n",
    "\n",
    "# create a struct columns for all artists\n",
    "results = results.with_columns(pl.struct(['first_artist_name', 'second_artist_name', 'third_artist_name', 'fourth_artist_name']).alias('artists'))\n",
    "\n",
    "# drop all artist name columns\n",
    "results = results.drop(columns=['first_artist_name', 'second_artist_name', 'third_artist_name', 'fourth_artist_name'])\n",
    "\n",
    "# convert added_at column to datetime\n",
    "results = results.with_columns(pl.col('added_at').str.to_datetime(strict=False))\n",
    "\n",
    "\n",
    "results.head(5)"
   ]
  }
 ],
 "metadata": {
  "kernelspec": {
   "display_name": "Python 3",
   "language": "python",
   "name": "python3"
  },
  "language_info": {
   "codemirror_mode": {
    "name": "ipython",
    "version": 3
   },
   "file_extension": ".py",
   "mimetype": "text/x-python",
   "name": "python",
   "nbconvert_exporter": "python",
   "pygments_lexer": "ipython3",
   "version": "3.10.11"
  }
 },
 "nbformat": 4,
 "nbformat_minor": 2
}
